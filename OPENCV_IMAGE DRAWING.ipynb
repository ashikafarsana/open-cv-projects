{
 "cells": [
  {
   "cell_type": "code",
   "execution_count": 1,
   "id": "7c78ba43",
   "metadata": {},
   "outputs": [],
   "source": [
    "import numpy as np\n",
    "import cv2"
   ]
  },
  {
   "cell_type": "code",
   "execution_count": 2,
   "id": "068d4d0a",
   "metadata": {},
   "outputs": [],
   "source": [
    "image=np.zeros((512,512,3),np.uint8)\n"
   ]
  },
  {
   "cell_type": "code",
   "execution_count": 3,
   "id": "e4fa06eb",
   "metadata": {},
   "outputs": [],
   "source": [
    "image=cv2.line(image,(0,0),(511,511),(255,0,0),5)\n",
    "cv2.imshow(\"window_name\", image)\n",
    "cv2.waitKey()\n",
    "cv2.destroyAllWindows()"
   ]
  },
  {
   "cell_type": "code",
   "execution_count": 4,
   "id": "a8000581",
   "metadata": {},
   "outputs": [],
   "source": [
    "image1=cv2.rectangle(image,(384,0),(510,128),(0,0,255),3)\n",
    "cv2.imshow(\"window_name\",image1)\n",
    "cv2.waitKey()\n",
    "cv2.destroyAllWindows()"
   ]
  },
  {
   "cell_type": "code",
   "execution_count": 5,
   "id": "8dab9743",
   "metadata": {},
   "outputs": [],
   "source": [
    "image2=cv2.circle(image,(447,63), 63, (0,0,255), -1)\n",
    "cv2.imshow(\"window_name\",image2)\n",
    "cv2.waitKey()\n",
    "cv2.destroyAllWindows()"
   ]
  },
  {
   "cell_type": "code",
   "execution_count": null,
   "id": "8c809954",
   "metadata": {},
   "outputs": [],
   "source": []
  }
 ],
 "metadata": {
  "kernelspec": {
   "display_name": "Python 3 (ipykernel)",
   "language": "python",
   "name": "python3"
  },
  "language_info": {
   "codemirror_mode": {
    "name": "ipython",
    "version": 3
   },
   "file_extension": ".py",
   "mimetype": "text/x-python",
   "name": "python",
   "nbconvert_exporter": "python",
   "pygments_lexer": "ipython3",
   "version": "3.9.7"
  }
 },
 "nbformat": 4,
 "nbformat_minor": 5
}
